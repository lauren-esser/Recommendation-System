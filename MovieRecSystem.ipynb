{
  "nbformat": 4,
  "nbformat_minor": 0,
  "metadata": {
    "colab": {
      "name": "MovieRecSystem.ipynb",
      "provenance": [],
      "authorship_tag": "ABX9TyP89P7Tl2vlfrS/D5IhZYRp",
      "include_colab_link": true
    },
    "kernelspec": {
      "name": "python3",
      "display_name": "Python 3"
    }
  },
  "cells": [
    {
      "cell_type": "markdown",
      "metadata": {
        "id": "view-in-github",
        "colab_type": "text"
      },
      "source": [
        "<a href=\"https://colab.research.google.com/github/lauren-esser/Recommendation-System/blob/main/MovieRecSystem.ipynb\" target=\"_parent\"><img src=\"https://colab.research.google.com/assets/colab-badge.svg\" alt=\"Open In Colab\"/></a>"
      ]
    },
    {
      "cell_type": "markdown",
      "metadata": {
        "id": "Jct8B_blYVb7"
      },
      "source": [
        "# Movie Recommendation-System"
      ]
    },
    {
      "cell_type": "code",
      "metadata": {
        "id": "5e9HJG3zYZIe"
      },
      "source": [
        ""
      ],
      "execution_count": null,
      "outputs": []
    },
    {
      "cell_type": "markdown",
      "metadata": {
        "id": "YczOT-nJYZ4j"
      },
      "source": [
        "# Abstract\n"
      ]
    },
    {
      "cell_type": "code",
      "metadata": {
        "id": "uoANXi3NYbUH"
      },
      "source": [
        ""
      ],
      "execution_count": null,
      "outputs": []
    },
    {
      "cell_type": "markdown",
      "metadata": {
        "id": "vg2SbR9eYbou"
      },
      "source": [
        "# Introduction\n"
      ]
    },
    {
      "cell_type": "code",
      "metadata": {
        "id": "QrcsZP0aYc9Q"
      },
      "source": [
        ""
      ],
      "execution_count": null,
      "outputs": []
    },
    {
      "cell_type": "markdown",
      "metadata": {
        "id": "O4bn-wpPYdVF"
      },
      "source": [
        "# Obtain"
      ]
    },
    {
      "cell_type": "code",
      "metadata": {
        "id": "b-WLmD9eYeVw"
      },
      "source": [
        ""
      ],
      "execution_count": null,
      "outputs": []
    },
    {
      "cell_type": "markdown",
      "metadata": {
        "id": "bHwtxreRYe1q"
      },
      "source": [
        "# Scrub"
      ]
    },
    {
      "cell_type": "code",
      "metadata": {
        "id": "_kctNLbaYgs7"
      },
      "source": [
        ""
      ],
      "execution_count": null,
      "outputs": []
    },
    {
      "cell_type": "markdown",
      "metadata": {
        "id": "aabNimpXYhBM"
      },
      "source": [
        "# Explore"
      ]
    },
    {
      "cell_type": "code",
      "metadata": {
        "id": "U4G4HqwxYh_5"
      },
      "source": [
        ""
      ],
      "execution_count": null,
      "outputs": []
    },
    {
      "cell_type": "markdown",
      "metadata": {
        "id": "ekcWG1XLYimN"
      },
      "source": [
        "# Model"
      ]
    },
    {
      "cell_type": "code",
      "metadata": {
        "id": "RW0AjjBQYkHJ"
      },
      "source": [
        ""
      ],
      "execution_count": null,
      "outputs": []
    },
    {
      "cell_type": "markdown",
      "metadata": {
        "id": "2atx-KdSYkip"
      },
      "source": [
        "# Interpret"
      ]
    },
    {
      "cell_type": "code",
      "metadata": {
        "id": "BCdDV3JnYlnp"
      },
      "source": [
        ""
      ],
      "execution_count": null,
      "outputs": []
    },
    {
      "cell_type": "markdown",
      "metadata": {
        "id": "XV7r7CPPYmMD"
      },
      "source": [
        "# Recommendations"
      ]
    },
    {
      "cell_type": "code",
      "metadata": {
        "id": "2oFczHhnYn25"
      },
      "source": [
        ""
      ],
      "execution_count": null,
      "outputs": []
    },
    {
      "cell_type": "markdown",
      "metadata": {
        "id": "9beZkE9gYoPE"
      },
      "source": [
        "# Future Work"
      ]
    },
    {
      "cell_type": "code",
      "metadata": {
        "id": "hqy_vI6vYo-U"
      },
      "source": [
        ""
      ],
      "execution_count": null,
      "outputs": []
    },
    {
      "cell_type": "markdown",
      "metadata": {
        "id": "sd3s5R9vYpef"
      },
      "source": [
        "Thank you."
      ]
    },
    {
      "cell_type": "code",
      "metadata": {
        "id": "DtAUxydeYqFZ"
      },
      "source": [
        ""
      ],
      "execution_count": null,
      "outputs": []
    }
  ]
}