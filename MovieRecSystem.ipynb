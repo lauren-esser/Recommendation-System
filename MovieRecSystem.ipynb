{
  "nbformat": 4,
  "nbformat_minor": 0,
  "metadata": {
    "colab": {
      "name": "MovieRecSystem.ipynb",
      "provenance": [],
      "collapsed_sections": [],
      "authorship_tag": "ABX9TyOclOtybwWifJX2ZFlir1tl",
      "include_colab_link": true
    },
    "kernelspec": {
      "name": "python3",
      "display_name": "Python 3"
    }
  },
  "cells": [
    {
      "cell_type": "markdown",
      "metadata": {
        "id": "view-in-github",
        "colab_type": "text"
      },
      "source": [
        "<a href=\"https://colab.research.google.com/github/lauren-esser/Recommendation-System/blob/main/MovieRecSystem.ipynb\" target=\"_parent\"><img src=\"https://colab.research.google.com/assets/colab-badge.svg\" alt=\"Open In Colab\"/></a>"
      ]
    },
    {
      "cell_type": "markdown",
      "metadata": {
        "id": "Jct8B_blYVb7"
      },
      "source": [
        "# Movie Recommendation-System"
      ]
    },
    {
      "cell_type": "markdown",
      "metadata": {
        "id": "ENOlsTXtO--t"
      },
      "source": [
        "**By:** Lauren Esser"
      ]
    },
    {
      "cell_type": "markdown",
      "metadata": {
        "id": "ZjSChh_3Xh4_"
      },
      "source": [
        "# Business Understanding"
      ]
    },
    {
      "cell_type": "markdown",
      "metadata": {
        "id": "SmLsilC_Xjna"
      },
      "source": [
        "*not finished* --> The goal of this project is to build a model that provides top 5 movie recommendations to a user, based on their ratings of other movies. The business value behind this recommendation system is that it keeps users engaged. If a user sits down to watch a movie, but doesn't know what to select, using a recommendation system can help select movies that the user will actually enjoy and keep them coming back for more. This increases use of the website or app which thus increases sales. "
      ]
    },
    {
      "cell_type": "markdown",
      "metadata": {
        "id": "YczOT-nJYZ4j"
      },
      "source": [
        "# Abstract\n"
      ]
    },
    {
      "cell_type": "code",
      "metadata": {
        "id": "uoANXi3NYbUH"
      },
      "source": [
        ""
      ],
      "execution_count": null,
      "outputs": []
    },
    {
      "cell_type": "markdown",
      "metadata": {
        "id": "6csos6t9PcS-"
      },
      "source": [
        "<img src = 'https://www.vshsolutions.com/wp-content/uploads/2020/02/recommender-system-for-movie-recommendation.jpg'>"
      ]
    },
    {
      "cell_type": "markdown",
      "metadata": {
        "id": "vg2SbR9eYbou"
      },
      "source": [
        "# Introduction\n"
      ]
    },
    {
      "cell_type": "code",
      "metadata": {
        "id": "QrcsZP0aYc9Q"
      },
      "source": [
        ""
      ],
      "execution_count": null,
      "outputs": []
    },
    {
      "cell_type": "markdown",
      "metadata": {
        "id": "O4bn-wpPYdVF"
      },
      "source": [
        "# Import and Connect"
      ]
    },
    {
      "cell_type": "code",
      "metadata": {
        "id": "Y5slxjO2eg6Z"
      },
      "source": [
        "#set numpy random seed\n",
        "import numpy as np\n",
        "np.random.seed(1919)"
      ],
      "execution_count": 1,
      "outputs": []
    },
    {
      "cell_type": "code",
      "metadata": {
        "id": "xq7L60ZkelQO"
      },
      "source": [
        "#set tensorflow random seed\n",
        "import tensorflow as tf\n",
        "tf.random.set_seed(1919)"
      ],
      "execution_count": 2,
      "outputs": []
    },
    {
      "cell_type": "code",
      "metadata": {
        "colab": {
          "base_uri": "https://localhost:8080/"
        },
        "id": "Mi54sGAggdq6",
        "outputId": "3d26932b-1798-44eb-9f12-4ba88ea16c37"
      },
      "source": [
        "!pip install pandasql"
      ],
      "execution_count": 3,
      "outputs": [
        {
          "output_type": "stream",
          "text": [
            "Requirement already satisfied: pandasql in /usr/local/lib/python3.6/dist-packages (0.7.3)\n",
            "Requirement already satisfied: numpy in /usr/local/lib/python3.6/dist-packages (from pandasql) (1.19.4)\n",
            "Requirement already satisfied: pandas in /usr/local/lib/python3.6/dist-packages (from pandasql) (1.1.5)\n",
            "Requirement already satisfied: sqlalchemy in /usr/local/lib/python3.6/dist-packages (from pandasql) (1.3.20)\n",
            "Requirement already satisfied: python-dateutil>=2.7.3 in /usr/local/lib/python3.6/dist-packages (from pandas->pandasql) (2.8.1)\n",
            "Requirement already satisfied: pytz>=2017.2 in /usr/local/lib/python3.6/dist-packages (from pandas->pandasql) (2018.9)\n",
            "Requirement already satisfied: six>=1.5 in /usr/local/lib/python3.6/dist-packages (from python-dateutil>=2.7.3->pandas->pandasql) (1.15.0)\n"
          ],
          "name": "stdout"
        }
      ]
    },
    {
      "cell_type": "code",
      "metadata": {
        "id": "b-WLmD9eYeVw"
      },
      "source": [
        "#import needed libraries\n",
        "import pandas as pd\n",
        "import pandasql\n",
        "from pandasql import sqldf\n",
        "pysqldf = lambda q: sqldf(q, globals())\n",
        "import matplotlib.pyplot as plt\n",
        "%matplotlib inline\n",
        "import seaborn as sns\n",
        "import os, glob\n",
        "from pyspark.ml.evaluation import RegressionEvaluator\n",
        "from pyspark.ml.recommendation import ALS\n",
        "from pyspark.ml.tuning import CrossValidator, ParamGridBuilder\n"
      ],
      "execution_count": 51,
      "outputs": []
    },
    {
      "cell_type": "code",
      "metadata": {
        "colab": {
          "base_uri": "https://localhost:8080/"
        },
        "id": "WZDZd1-qeMzO",
        "outputId": "ab23bc77-1239-4f9d-dda3-15a7b60bbc80"
      },
      "source": [
        "#connect to google drive\n",
        "from google.colab import drive\n",
        "drive.mount('/gdrive', force_remount = True)"
      ],
      "execution_count": 5,
      "outputs": [
        {
          "output_type": "stream",
          "text": [
            "Mounted at /gdrive\n"
          ],
          "name": "stdout"
        }
      ]
    },
    {
      "cell_type": "code",
      "metadata": {
        "colab": {
          "base_uri": "https://localhost:8080/"
        },
        "id": "tn7o45nRe-lr",
        "outputId": "b04cafb2-dded-46ae-c55a-532b59d917c4"
      },
      "source": [
        "#move to home directory\n",
        "%cd ~\n",
        "%cd .."
      ],
      "execution_count": 6,
      "outputs": [
        {
          "output_type": "stream",
          "text": [
            "/root\n",
            "/\n"
          ],
          "name": "stdout"
        }
      ]
    },
    {
      "cell_type": "code",
      "metadata": {
        "colab": {
          "base_uri": "https://localhost:8080/"
        },
        "id": "lDAEzljpfDiL",
        "outputId": "a224666b-e29d-471d-895d-c47c788b1211"
      },
      "source": [
        "#list files in DataSets\n",
        "!ls '/gdrive/My Drive/Colab Notebooks/DataSets'"
      ],
      "execution_count": 7,
      "outputs": [
        {
          "output_type": "stream",
          "text": [
            "archive.zip\t\t      IVE_tickbidask.txt  News_Category_Dataset_v2.json\n",
            "chest-xray-pneumonia-jmi.zip  Megatable-2016.sql\n",
            "dogs-vs-cats-sorted.zip       ml-latest-small\n"
          ],
          "name": "stdout"
        }
      ]
    },
    {
      "cell_type": "markdown",
      "metadata": {
        "id": "2LgmDTpafTWy"
      },
      "source": [
        "# Obtain"
      ]
    },
    {
      "cell_type": "markdown",
      "metadata": {
        "id": "TP_mJtOUadpB"
      },
      "source": [
        "Data comes from Grouplens website found [here.](https://grouplens.org/datasets/movielens/latest/) GroupLens is a research group in the Department of Computer Science and Engineering at the University of Minnesota. For this notebook I chose to download the *Small* MovieLens dataset. Movielens is a non-commerical website that allows users to rate movies. This dataset includes 100,000 ratings and 3,600 tag applications applied to 9,000 movies by 600 users. The last update to this dataset was September 2018.\n",
        "\n",
        "\n",
        "\n",
        "**Table Information**:\n",
        "\n",
        "*Ratings*:\n",
        " Each row represents one rating of one movie by one user. Lines are organized by userId, then by movieId. Ratings are on a 5-star scale with .5 star increments. Timestamp represents seconds since midnight UTC of Jan 1, 1970.\n",
        "\n",
        "---\n",
        "\n",
        "*Tags*:\n",
        " Tags are user-generated metadata about movies. Tags are a single word or short phrase in which the meaning of tag is determined by each user.Timestamps represent seconds since midnight UTC of Jan 1, 1970.\n",
        "\n",
        "---\n",
        "\n",
        "*Movies*: \n",
        "Movie titles are entered manually or imported from themovieddb.org, this means there could be errors or inconsistencies with movie titles. Genre selection comes from a curated list for the user to select from. \n",
        "\n",
        "---\n",
        "\n",
        "*Links*:\n",
        " Links include the identifier number for imdbID and tmdbID.\n",
        "\n",
        " ---"
      ]
    },
    {
      "cell_type": "code",
      "metadata": {
        "id": "KzHWmF0jfWjb"
      },
      "source": [
        "# #import and assign text file\n",
        "# source_folder = r'gdrive/My Drive/Colab Notebooks/DataSets/'\n",
        "# file = glob.glob(source_folder+ 'ml-latest-small.zip', recursive = True)\n",
        "# file = file[0]\n",
        "# file"
      ],
      "execution_count": 8,
      "outputs": []
    },
    {
      "cell_type": "code",
      "metadata": {
        "id": "DDGQj6GJfwTr"
      },
      "source": [
        "# #unzip data\n",
        "# zip_path = file\n",
        "# !cp '{zip_path}' .\n",
        "\n",
        "# !unzip -q ml-latest-small.zip \n",
        "# !rm ml-latest-small.zip"
      ],
      "execution_count": 9,
      "outputs": []
    },
    {
      "cell_type": "code",
      "metadata": {
        "colab": {
          "base_uri": "https://localhost:8080/",
          "height": 204
        },
        "id": "h6JxsnD2gHso",
        "outputId": "594327f5-d5f7-4852-c5db-1ac717b2ce0a"
      },
      "source": [
        "#create movies dataframe\n",
        "movies = pd.read_csv('gdrive/My Drive/Colab Notebooks/DataSets/ml-latest-small/movies.csv')\n",
        "movies.head()"
      ],
      "execution_count": 10,
      "outputs": [
        {
          "output_type": "execute_result",
          "data": {
            "text/html": [
              "<div>\n",
              "<style scoped>\n",
              "    .dataframe tbody tr th:only-of-type {\n",
              "        vertical-align: middle;\n",
              "    }\n",
              "\n",
              "    .dataframe tbody tr th {\n",
              "        vertical-align: top;\n",
              "    }\n",
              "\n",
              "    .dataframe thead th {\n",
              "        text-align: right;\n",
              "    }\n",
              "</style>\n",
              "<table border=\"1\" class=\"dataframe\">\n",
              "  <thead>\n",
              "    <tr style=\"text-align: right;\">\n",
              "      <th></th>\n",
              "      <th>movieId</th>\n",
              "      <th>title</th>\n",
              "      <th>genres</th>\n",
              "    </tr>\n",
              "  </thead>\n",
              "  <tbody>\n",
              "    <tr>\n",
              "      <th>0</th>\n",
              "      <td>1</td>\n",
              "      <td>Toy Story (1995)</td>\n",
              "      <td>Adventure|Animation|Children|Comedy|Fantasy</td>\n",
              "    </tr>\n",
              "    <tr>\n",
              "      <th>1</th>\n",
              "      <td>2</td>\n",
              "      <td>Jumanji (1995)</td>\n",
              "      <td>Adventure|Children|Fantasy</td>\n",
              "    </tr>\n",
              "    <tr>\n",
              "      <th>2</th>\n",
              "      <td>3</td>\n",
              "      <td>Grumpier Old Men (1995)</td>\n",
              "      <td>Comedy|Romance</td>\n",
              "    </tr>\n",
              "    <tr>\n",
              "      <th>3</th>\n",
              "      <td>4</td>\n",
              "      <td>Waiting to Exhale (1995)</td>\n",
              "      <td>Comedy|Drama|Romance</td>\n",
              "    </tr>\n",
              "    <tr>\n",
              "      <th>4</th>\n",
              "      <td>5</td>\n",
              "      <td>Father of the Bride Part II (1995)</td>\n",
              "      <td>Comedy</td>\n",
              "    </tr>\n",
              "  </tbody>\n",
              "</table>\n",
              "</div>"
            ],
            "text/plain": [
              "   movieId  ...                                       genres\n",
              "0        1  ...  Adventure|Animation|Children|Comedy|Fantasy\n",
              "1        2  ...                   Adventure|Children|Fantasy\n",
              "2        3  ...                               Comedy|Romance\n",
              "3        4  ...                         Comedy|Drama|Romance\n",
              "4        5  ...                                       Comedy\n",
              "\n",
              "[5 rows x 3 columns]"
            ]
          },
          "metadata": {
            "tags": []
          },
          "execution_count": 10
        }
      ]
    },
    {
      "cell_type": "code",
      "metadata": {
        "colab": {
          "base_uri": "https://localhost:8080/",
          "height": 204
        },
        "id": "rYxO31KJgo7w",
        "outputId": "e6da0a46-11b9-4bda-b260-1eaad834a355"
      },
      "source": [
        "#create tags dataframe\n",
        "tags = pd.read_csv('gdrive/My Drive/Colab Notebooks/DataSets/ml-latest-small/tags.csv')\n",
        "tags.head()"
      ],
      "execution_count": 11,
      "outputs": [
        {
          "output_type": "execute_result",
          "data": {
            "text/html": [
              "<div>\n",
              "<style scoped>\n",
              "    .dataframe tbody tr th:only-of-type {\n",
              "        vertical-align: middle;\n",
              "    }\n",
              "\n",
              "    .dataframe tbody tr th {\n",
              "        vertical-align: top;\n",
              "    }\n",
              "\n",
              "    .dataframe thead th {\n",
              "        text-align: right;\n",
              "    }\n",
              "</style>\n",
              "<table border=\"1\" class=\"dataframe\">\n",
              "  <thead>\n",
              "    <tr style=\"text-align: right;\">\n",
              "      <th></th>\n",
              "      <th>userId</th>\n",
              "      <th>movieId</th>\n",
              "      <th>tag</th>\n",
              "      <th>timestamp</th>\n",
              "    </tr>\n",
              "  </thead>\n",
              "  <tbody>\n",
              "    <tr>\n",
              "      <th>0</th>\n",
              "      <td>2</td>\n",
              "      <td>60756</td>\n",
              "      <td>funny</td>\n",
              "      <td>1445714994</td>\n",
              "    </tr>\n",
              "    <tr>\n",
              "      <th>1</th>\n",
              "      <td>2</td>\n",
              "      <td>60756</td>\n",
              "      <td>Highly quotable</td>\n",
              "      <td>1445714996</td>\n",
              "    </tr>\n",
              "    <tr>\n",
              "      <th>2</th>\n",
              "      <td>2</td>\n",
              "      <td>60756</td>\n",
              "      <td>will ferrell</td>\n",
              "      <td>1445714992</td>\n",
              "    </tr>\n",
              "    <tr>\n",
              "      <th>3</th>\n",
              "      <td>2</td>\n",
              "      <td>89774</td>\n",
              "      <td>Boxing story</td>\n",
              "      <td>1445715207</td>\n",
              "    </tr>\n",
              "    <tr>\n",
              "      <th>4</th>\n",
              "      <td>2</td>\n",
              "      <td>89774</td>\n",
              "      <td>MMA</td>\n",
              "      <td>1445715200</td>\n",
              "    </tr>\n",
              "  </tbody>\n",
              "</table>\n",
              "</div>"
            ],
            "text/plain": [
              "   userId  movieId              tag   timestamp\n",
              "0       2    60756            funny  1445714994\n",
              "1       2    60756  Highly quotable  1445714996\n",
              "2       2    60756     will ferrell  1445714992\n",
              "3       2    89774     Boxing story  1445715207\n",
              "4       2    89774              MMA  1445715200"
            ]
          },
          "metadata": {
            "tags": []
          },
          "execution_count": 11
        }
      ]
    },
    {
      "cell_type": "code",
      "metadata": {
        "colab": {
          "base_uri": "https://localhost:8080/",
          "height": 204
        },
        "id": "s9vsoFQJgvbl",
        "outputId": "f13d820f-3fb9-4f22-b98d-386b6d0520c0"
      },
      "source": [
        "#create ratings dataframe\n",
        "ratings = pd.read_csv('gdrive/My Drive/Colab Notebooks/DataSets/ml-latest-small/ratings.csv')\n",
        "ratings.head()"
      ],
      "execution_count": 12,
      "outputs": [
        {
          "output_type": "execute_result",
          "data": {
            "text/html": [
              "<div>\n",
              "<style scoped>\n",
              "    .dataframe tbody tr th:only-of-type {\n",
              "        vertical-align: middle;\n",
              "    }\n",
              "\n",
              "    .dataframe tbody tr th {\n",
              "        vertical-align: top;\n",
              "    }\n",
              "\n",
              "    .dataframe thead th {\n",
              "        text-align: right;\n",
              "    }\n",
              "</style>\n",
              "<table border=\"1\" class=\"dataframe\">\n",
              "  <thead>\n",
              "    <tr style=\"text-align: right;\">\n",
              "      <th></th>\n",
              "      <th>userId</th>\n",
              "      <th>movieId</th>\n",
              "      <th>rating</th>\n",
              "      <th>timestamp</th>\n",
              "    </tr>\n",
              "  </thead>\n",
              "  <tbody>\n",
              "    <tr>\n",
              "      <th>0</th>\n",
              "      <td>1</td>\n",
              "      <td>1</td>\n",
              "      <td>4.0</td>\n",
              "      <td>964982703</td>\n",
              "    </tr>\n",
              "    <tr>\n",
              "      <th>1</th>\n",
              "      <td>1</td>\n",
              "      <td>3</td>\n",
              "      <td>4.0</td>\n",
              "      <td>964981247</td>\n",
              "    </tr>\n",
              "    <tr>\n",
              "      <th>2</th>\n",
              "      <td>1</td>\n",
              "      <td>6</td>\n",
              "      <td>4.0</td>\n",
              "      <td>964982224</td>\n",
              "    </tr>\n",
              "    <tr>\n",
              "      <th>3</th>\n",
              "      <td>1</td>\n",
              "      <td>47</td>\n",
              "      <td>5.0</td>\n",
              "      <td>964983815</td>\n",
              "    </tr>\n",
              "    <tr>\n",
              "      <th>4</th>\n",
              "      <td>1</td>\n",
              "      <td>50</td>\n",
              "      <td>5.0</td>\n",
              "      <td>964982931</td>\n",
              "    </tr>\n",
              "  </tbody>\n",
              "</table>\n",
              "</div>"
            ],
            "text/plain": [
              "   userId  movieId  rating  timestamp\n",
              "0       1        1     4.0  964982703\n",
              "1       1        3     4.0  964981247\n",
              "2       1        6     4.0  964982224\n",
              "3       1       47     5.0  964983815\n",
              "4       1       50     5.0  964982931"
            ]
          },
          "metadata": {
            "tags": []
          },
          "execution_count": 12
        }
      ]
    },
    {
      "cell_type": "code",
      "metadata": {
        "colab": {
          "base_uri": "https://localhost:8080/",
          "height": 204
        },
        "id": "8rQcw1L3gzsK",
        "outputId": "ff83df40-4454-4d1b-fda6-a4e00be40f86"
      },
      "source": [
        "#create links dataframe\n",
        "links = pd.read_csv('gdrive/My Drive/Colab Notebooks/DataSets/ml-latest-small/links.csv')\n",
        "links.head()"
      ],
      "execution_count": 13,
      "outputs": [
        {
          "output_type": "execute_result",
          "data": {
            "text/html": [
              "<div>\n",
              "<style scoped>\n",
              "    .dataframe tbody tr th:only-of-type {\n",
              "        vertical-align: middle;\n",
              "    }\n",
              "\n",
              "    .dataframe tbody tr th {\n",
              "        vertical-align: top;\n",
              "    }\n",
              "\n",
              "    .dataframe thead th {\n",
              "        text-align: right;\n",
              "    }\n",
              "</style>\n",
              "<table border=\"1\" class=\"dataframe\">\n",
              "  <thead>\n",
              "    <tr style=\"text-align: right;\">\n",
              "      <th></th>\n",
              "      <th>movieId</th>\n",
              "      <th>imdbId</th>\n",
              "      <th>tmdbId</th>\n",
              "    </tr>\n",
              "  </thead>\n",
              "  <tbody>\n",
              "    <tr>\n",
              "      <th>0</th>\n",
              "      <td>1</td>\n",
              "      <td>114709</td>\n",
              "      <td>862.0</td>\n",
              "    </tr>\n",
              "    <tr>\n",
              "      <th>1</th>\n",
              "      <td>2</td>\n",
              "      <td>113497</td>\n",
              "      <td>8844.0</td>\n",
              "    </tr>\n",
              "    <tr>\n",
              "      <th>2</th>\n",
              "      <td>3</td>\n",
              "      <td>113228</td>\n",
              "      <td>15602.0</td>\n",
              "    </tr>\n",
              "    <tr>\n",
              "      <th>3</th>\n",
              "      <td>4</td>\n",
              "      <td>114885</td>\n",
              "      <td>31357.0</td>\n",
              "    </tr>\n",
              "    <tr>\n",
              "      <th>4</th>\n",
              "      <td>5</td>\n",
              "      <td>113041</td>\n",
              "      <td>11862.0</td>\n",
              "    </tr>\n",
              "  </tbody>\n",
              "</table>\n",
              "</div>"
            ],
            "text/plain": [
              "   movieId  imdbId   tmdbId\n",
              "0        1  114709    862.0\n",
              "1        2  113497   8844.0\n",
              "2        3  113228  15602.0\n",
              "3        4  114885  31357.0\n",
              "4        5  113041  11862.0"
            ]
          },
          "metadata": {
            "tags": []
          },
          "execution_count": 13
        }
      ]
    },
    {
      "cell_type": "markdown",
      "metadata": {
        "id": "bHwtxreRYe1q"
      },
      "source": [
        "# Scrub"
      ]
    },
    {
      "cell_type": "markdown",
      "metadata": {
        "id": "mob4o5NEhfVf"
      },
      "source": [
        "Use SQL to merge tables into one."
      ]
    },
    {
      "cell_type": "code",
      "metadata": {
        "id": "pf-gCMC8mDDo"
      },
      "source": [
        "pysqldf = lambda q: sqldf(q, globals())"
      ],
      "execution_count": 14,
      "outputs": []
    },
    {
      "cell_type": "code",
      "metadata": {
        "id": "f4ADDaxUlGgK"
      },
      "source": [
        "q = \"\"\"SELECT *\n",
        "       FROM movies m \n",
        "       JOIN links l\n",
        "       ON m.movieId == l.movieId\n",
        "       JOIN ratings r\n",
        "       ON l.movieId == r.movieId\n",
        "       JOIN tags t\n",
        "       ON r.movieId == t.movieId;\"\"\"\n"
      ],
      "execution_count": 15,
      "outputs": []
    },
    {
      "cell_type": "code",
      "metadata": {
        "colab": {
          "base_uri": "https://localhost:8080/",
          "height": 394
        },
        "id": "d4oH9Htxl8t5",
        "outputId": "1989ebc5-69d3-4129-957f-5815287b0ecf"
      },
      "source": [
        "df = pysqldf(q)\n",
        "df.head()"
      ],
      "execution_count": 16,
      "outputs": [
        {
          "output_type": "execute_result",
          "data": {
            "text/html": [
              "<div>\n",
              "<style scoped>\n",
              "    .dataframe tbody tr th:only-of-type {\n",
              "        vertical-align: middle;\n",
              "    }\n",
              "\n",
              "    .dataframe tbody tr th {\n",
              "        vertical-align: top;\n",
              "    }\n",
              "\n",
              "    .dataframe thead th {\n",
              "        text-align: right;\n",
              "    }\n",
              "</style>\n",
              "<table border=\"1\" class=\"dataframe\">\n",
              "  <thead>\n",
              "    <tr style=\"text-align: right;\">\n",
              "      <th></th>\n",
              "      <th>movieId</th>\n",
              "      <th>title</th>\n",
              "      <th>genres</th>\n",
              "      <th>movieId</th>\n",
              "      <th>imdbId</th>\n",
              "      <th>tmdbId</th>\n",
              "      <th>userId</th>\n",
              "      <th>movieId</th>\n",
              "      <th>rating</th>\n",
              "      <th>timestamp</th>\n",
              "      <th>userId</th>\n",
              "      <th>movieId</th>\n",
              "      <th>tag</th>\n",
              "      <th>timestamp</th>\n",
              "    </tr>\n",
              "  </thead>\n",
              "  <tbody>\n",
              "    <tr>\n",
              "      <th>0</th>\n",
              "      <td>1</td>\n",
              "      <td>Toy Story (1995)</td>\n",
              "      <td>Adventure|Animation|Children|Comedy|Fantasy</td>\n",
              "      <td>1</td>\n",
              "      <td>114709</td>\n",
              "      <td>862.0</td>\n",
              "      <td>1</td>\n",
              "      <td>1</td>\n",
              "      <td>4.0</td>\n",
              "      <td>964982703</td>\n",
              "      <td>336</td>\n",
              "      <td>1</td>\n",
              "      <td>pixar</td>\n",
              "      <td>1139045764</td>\n",
              "    </tr>\n",
              "    <tr>\n",
              "      <th>1</th>\n",
              "      <td>1</td>\n",
              "      <td>Toy Story (1995)</td>\n",
              "      <td>Adventure|Animation|Children|Comedy|Fantasy</td>\n",
              "      <td>1</td>\n",
              "      <td>114709</td>\n",
              "      <td>862.0</td>\n",
              "      <td>1</td>\n",
              "      <td>1</td>\n",
              "      <td>4.0</td>\n",
              "      <td>964982703</td>\n",
              "      <td>474</td>\n",
              "      <td>1</td>\n",
              "      <td>pixar</td>\n",
              "      <td>1137206825</td>\n",
              "    </tr>\n",
              "    <tr>\n",
              "      <th>2</th>\n",
              "      <td>1</td>\n",
              "      <td>Toy Story (1995)</td>\n",
              "      <td>Adventure|Animation|Children|Comedy|Fantasy</td>\n",
              "      <td>1</td>\n",
              "      <td>114709</td>\n",
              "      <td>862.0</td>\n",
              "      <td>1</td>\n",
              "      <td>1</td>\n",
              "      <td>4.0</td>\n",
              "      <td>964982703</td>\n",
              "      <td>567</td>\n",
              "      <td>1</td>\n",
              "      <td>fun</td>\n",
              "      <td>1525286013</td>\n",
              "    </tr>\n",
              "    <tr>\n",
              "      <th>3</th>\n",
              "      <td>1</td>\n",
              "      <td>Toy Story (1995)</td>\n",
              "      <td>Adventure|Animation|Children|Comedy|Fantasy</td>\n",
              "      <td>1</td>\n",
              "      <td>114709</td>\n",
              "      <td>862.0</td>\n",
              "      <td>5</td>\n",
              "      <td>1</td>\n",
              "      <td>4.0</td>\n",
              "      <td>847434962</td>\n",
              "      <td>336</td>\n",
              "      <td>1</td>\n",
              "      <td>pixar</td>\n",
              "      <td>1139045764</td>\n",
              "    </tr>\n",
              "    <tr>\n",
              "      <th>4</th>\n",
              "      <td>1</td>\n",
              "      <td>Toy Story (1995)</td>\n",
              "      <td>Adventure|Animation|Children|Comedy|Fantasy</td>\n",
              "      <td>1</td>\n",
              "      <td>114709</td>\n",
              "      <td>862.0</td>\n",
              "      <td>5</td>\n",
              "      <td>1</td>\n",
              "      <td>4.0</td>\n",
              "      <td>847434962</td>\n",
              "      <td>474</td>\n",
              "      <td>1</td>\n",
              "      <td>pixar</td>\n",
              "      <td>1137206825</td>\n",
              "    </tr>\n",
              "  </tbody>\n",
              "</table>\n",
              "</div>"
            ],
            "text/plain": [
              "   movieId             title  ...    tag   timestamp\n",
              "0        1  Toy Story (1995)  ...  pixar  1139045764\n",
              "1        1  Toy Story (1995)  ...  pixar  1137206825\n",
              "2        1  Toy Story (1995)  ...    fun  1525286013\n",
              "3        1  Toy Story (1995)  ...  pixar  1139045764\n",
              "4        1  Toy Story (1995)  ...  pixar  1137206825\n",
              "\n",
              "[5 rows x 14 columns]"
            ]
          },
          "metadata": {
            "tags": []
          },
          "execution_count": 16
        }
      ]
    },
    {
      "cell_type": "code",
      "metadata": {
        "id": "B8sTJOsDyy-G"
      },
      "source": [
        "#remove duplicate columns\n",
        "df = df.loc[:, ~df.columns.duplicated()]"
      ],
      "execution_count": 17,
      "outputs": []
    },
    {
      "cell_type": "code",
      "metadata": {
        "colab": {
          "base_uri": "https://localhost:8080/"
        },
        "id": "iHUKV7BxZwKh",
        "outputId": "9ad6d538-0a8f-437e-ad02-d96e78e0fae2"
      },
      "source": [
        "#check nulls\n",
        "df.isna().sum()"
      ],
      "execution_count": 18,
      "outputs": [
        {
          "output_type": "execute_result",
          "data": {
            "text/plain": [
              "movieId      0\n",
              "title        0\n",
              "genres       0\n",
              "imdbId       0\n",
              "tmdbId       0\n",
              "userId       0\n",
              "rating       0\n",
              "timestamp    0\n",
              "tag          0\n",
              "dtype: int64"
            ]
          },
          "metadata": {
            "tags": []
          },
          "execution_count": 18
        }
      ]
    },
    {
      "cell_type": "code",
      "metadata": {
        "colab": {
          "base_uri": "https://localhost:8080/",
          "height": 419
        },
        "id": "0aY6e8Va34gu",
        "outputId": "c55f245c-2d72-427a-8ba9-f703425fbded"
      },
      "source": [
        "df1 = df[['movieId', 'userId', 'rating']]\n",
        "df1"
      ],
      "execution_count": 39,
      "outputs": [
        {
          "output_type": "execute_result",
          "data": {
            "text/html": [
              "<div>\n",
              "<style scoped>\n",
              "    .dataframe tbody tr th:only-of-type {\n",
              "        vertical-align: middle;\n",
              "    }\n",
              "\n",
              "    .dataframe tbody tr th {\n",
              "        vertical-align: top;\n",
              "    }\n",
              "\n",
              "    .dataframe thead th {\n",
              "        text-align: right;\n",
              "    }\n",
              "</style>\n",
              "<table border=\"1\" class=\"dataframe\">\n",
              "  <thead>\n",
              "    <tr style=\"text-align: right;\">\n",
              "      <th></th>\n",
              "      <th>movieId</th>\n",
              "      <th>userId</th>\n",
              "      <th>rating</th>\n",
              "    </tr>\n",
              "  </thead>\n",
              "  <tbody>\n",
              "    <tr>\n",
              "      <th>0</th>\n",
              "      <td>1</td>\n",
              "      <td>1</td>\n",
              "      <td>4.0</td>\n",
              "    </tr>\n",
              "    <tr>\n",
              "      <th>1</th>\n",
              "      <td>1</td>\n",
              "      <td>1</td>\n",
              "      <td>4.0</td>\n",
              "    </tr>\n",
              "    <tr>\n",
              "      <th>2</th>\n",
              "      <td>1</td>\n",
              "      <td>1</td>\n",
              "      <td>4.0</td>\n",
              "    </tr>\n",
              "    <tr>\n",
              "      <th>3</th>\n",
              "      <td>1</td>\n",
              "      <td>5</td>\n",
              "      <td>4.0</td>\n",
              "    </tr>\n",
              "    <tr>\n",
              "      <th>4</th>\n",
              "      <td>1</td>\n",
              "      <td>5</td>\n",
              "      <td>4.0</td>\n",
              "    </tr>\n",
              "    <tr>\n",
              "      <th>...</th>\n",
              "      <td>...</td>\n",
              "      <td>...</td>\n",
              "      <td>...</td>\n",
              "    </tr>\n",
              "    <tr>\n",
              "      <th>233208</th>\n",
              "      <td>187595</td>\n",
              "      <td>586</td>\n",
              "      <td>5.0</td>\n",
              "    </tr>\n",
              "    <tr>\n",
              "      <th>233209</th>\n",
              "      <td>193565</td>\n",
              "      <td>184</td>\n",
              "      <td>3.5</td>\n",
              "    </tr>\n",
              "    <tr>\n",
              "      <th>233210</th>\n",
              "      <td>193565</td>\n",
              "      <td>184</td>\n",
              "      <td>3.5</td>\n",
              "    </tr>\n",
              "    <tr>\n",
              "      <th>233211</th>\n",
              "      <td>193565</td>\n",
              "      <td>184</td>\n",
              "      <td>3.5</td>\n",
              "    </tr>\n",
              "    <tr>\n",
              "      <th>233212</th>\n",
              "      <td>193565</td>\n",
              "      <td>184</td>\n",
              "      <td>3.5</td>\n",
              "    </tr>\n",
              "  </tbody>\n",
              "</table>\n",
              "<p>233213 rows × 3 columns</p>\n",
              "</div>"
            ],
            "text/plain": [
              "        movieId  userId  rating\n",
              "0             1       1     4.0\n",
              "1             1       1     4.0\n",
              "2             1       1     4.0\n",
              "3             1       5     4.0\n",
              "4             1       5     4.0\n",
              "...         ...     ...     ...\n",
              "233208   187595     586     5.0\n",
              "233209   193565     184     3.5\n",
              "233210   193565     184     3.5\n",
              "233211   193565     184     3.5\n",
              "233212   193565     184     3.5\n",
              "\n",
              "[233213 rows x 3 columns]"
            ]
          },
          "metadata": {
            "tags": []
          },
          "execution_count": 39
        }
      ]
    },
    {
      "cell_type": "code",
      "metadata": {
        "colab": {
          "base_uri": "https://localhost:8080/"
        },
        "id": "4aicYzxNgHfu",
        "outputId": "6d532e24-18e0-4ccb-fc9c-12dac3e454d8"
      },
      "source": [
        "#basic information\n",
        "print(\"Total Data:\")\n",
        "print(\"Total Number of Movie Ratings: \" + str(df1.shape[0]))\n",
        "print(\"Number of unique users: \" + str(len(np.unique(df1[\"userId\"]))))\n",
        "print(\"Number of unique movies: \" + str(len(np.unique(df1[\"movieId\"]))))"
      ],
      "execution_count": 37,
      "outputs": [
        {
          "output_type": "stream",
          "text": [
            "Total Data:\n",
            "Total Number of Movie Ratings: 233213\n",
            "Number of unique users: 610\n",
            "Number of unique movies: 1554\n"
          ],
          "name": "stdout"
        }
      ]
    },
    {
      "cell_type": "code",
      "metadata": {
        "id": "S-WjQyWS2Gb6"
      },
      "source": [
        "df1.to_csv('gdrive/My Drive/Colab Notebooks/DataSets/ml-latest-small/df.csv', index = False)"
      ],
      "execution_count": 45,
      "outputs": []
    },
    {
      "cell_type": "markdown",
      "metadata": {
        "id": "aabNimpXYhBM"
      },
      "source": [
        "# Explore"
      ]
    },
    {
      "cell_type": "code",
      "metadata": {
        "colab": {
          "base_uri": "https://localhost:8080/"
        },
        "id": "HZiXptf0yEKd",
        "outputId": "68d1095c-53ba-4395-d956-c05b1c9f7495"
      },
      "source": [
        "!pip install pyspark\n",
        "from pyspark.sql import SparkSession"
      ],
      "execution_count": 23,
      "outputs": [
        {
          "output_type": "stream",
          "text": [
            "Requirement already satisfied: pyspark in /usr/local/lib/python3.6/dist-packages (3.0.1)\n",
            "Requirement already satisfied: py4j==0.10.9 in /usr/local/lib/python3.6/dist-packages (from pyspark) (0.10.9)\n"
          ],
          "name": "stdout"
        }
      ]
    },
    {
      "cell_type": "code",
      "metadata": {
        "id": "djzdDKwFyVgu"
      },
      "source": [
        "#instantiate Spark\n",
        "spark = SparkSession\\\n",
        "        .builder\\\n",
        "        .appName('ALSExample').config('spark.driver.host', 'localhost')\\\n",
        "        .getOrCreate()"
      ],
      "execution_count": 24,
      "outputs": []
    },
    {
      "cell_type": "code",
      "metadata": {
        "id": "b1660tFj1snY"
      },
      "source": [
        "#read in dataset into pyspark\n",
        "movie = spark.read.csv('gdrive/My Drive/Colab Notebooks/DataSets/ml-latest-small/df.csv', header='true', inferSchema='true')"
      ],
      "execution_count": 46,
      "outputs": []
    },
    {
      "cell_type": "markdown",
      "metadata": {
        "id": "ekcWG1XLYimN"
      },
      "source": [
        "# Model"
      ]
    },
    {
      "cell_type": "markdown",
      "metadata": {
        "id": "2sO2qmXNHSoQ"
      },
      "source": [
        "### Alternating Least Squares Model"
      ]
    },
    {
      "cell_type": "code",
      "metadata": {
        "colab": {
          "base_uri": "https://localhost:8080/"
        },
        "id": "9IshEqeg2eJl",
        "outputId": "af7a42cc-e316-41a1-9b39-842a069a3d55"
      },
      "source": [
        "movie.dtypes"
      ],
      "execution_count": 47,
      "outputs": [
        {
          "output_type": "execute_result",
          "data": {
            "text/plain": [
              "[('movieId', 'int'), ('userId', 'int'), ('rating', 'double')]"
            ]
          },
          "metadata": {
            "tags": []
          },
          "execution_count": 47
        }
      ]
    },
    {
      "cell_type": "code",
      "metadata": {
        "id": "7yN7Xd5s1g_z"
      },
      "source": [
        "#create training and test set\n",
        "(training, test) = movie.randomSplit([0.8, 0.2])\n"
      ],
      "execution_count": 48,
      "outputs": []
    },
    {
      "cell_type": "code",
      "metadata": {
        "id": "8ktJKrhyGIHg"
      },
      "source": [
        "#recommendation model with ALS\n",
        "als = ALS(maxIter=5,rank=4, regParam=0.01, userCol='userId', itemCol='movieId', \n",
        "          ratingCol='rating', coldStartStrategy='drop')\n",
        "\n",
        "# fit model to training\n",
        "model = als.fit(training)"
      ],
      "execution_count": 49,
      "outputs": []
    },
    {
      "cell_type": "code",
      "metadata": {
        "colab": {
          "base_uri": "https://localhost:8080/"
        },
        "id": "imrm4KGJ2vEC",
        "outputId": "be117c5b-2d6e-48f6-ee70-04e6ce6f3931"
      },
      "source": [
        "#compute RMSE\n",
        "predictions = model.transform(test)\n",
        "evaluator = RegressionEvaluator(metricName = 'rmse', labelCol = 'rating',\n",
        "                                predictionCol = 'prediction')\n",
        "rmse = evaluator.evaluate(predictions)\n",
        "\n",
        "print('Root-mean-square error = ' + str(rmse))"
      ],
      "execution_count": 50,
      "outputs": [
        {
          "output_type": "stream",
          "text": [
            "Root-mean-square error = 0.6456802890249984\n"
          ],
          "name": "stdout"
        }
      ]
    },
    {
      "cell_type": "markdown",
      "metadata": {
        "id": "WdSDV3HiHWGX"
      },
      "source": [
        "---"
      ]
    },
    {
      "cell_type": "markdown",
      "metadata": {
        "id": "ZDsPso9QHXBO"
      },
      "source": [
        "**Cross Validation for Optimal Model**"
      ]
    },
    {
      "cell_type": "code",
      "metadata": {
        "id": "FTy2RmaNHhP9"
      },
      "source": [
        "#instantiate vanilla model\n",
        "als_model = ALS(userCol='userId', itemCol='movieId', \n",
        "          ratingCol='rating', coldStartStrategy='drop')\n",
        "\n",
        "#create param grid\n",
        "params = ParamGridBuilder()\\\n",
        "          .addGrid(als_model.regParam, [0.01, 0.001, 0.1])\\\n",
        "          .addGrid(als_model.rank, [4, 10, 50])\\\n",
        "          .addGrid(als_model.maxIter, [5, 10]).build()\n",
        "\n",
        "#instantiate crossval\n",
        "cv = CrossValidator(estimator = als_model, estimatorParamMaps = params,\n",
        "                    evaluator = evaluator, parallelism = 4)\n",
        "best_model = cv.fit(movie)\n",
        "\n",
        "best_model.bestModel.rank"
      ],
      "execution_count": null,
      "outputs": []
    },
    {
      "cell_type": "code",
      "metadata": {
        "id": "f8EqafoIHazt"
      },
      "source": [
        ""
      ],
      "execution_count": null,
      "outputs": []
    },
    {
      "cell_type": "markdown",
      "metadata": {
        "id": "2atx-KdSYkip"
      },
      "source": [
        "# Interpret"
      ]
    },
    {
      "cell_type": "code",
      "metadata": {
        "id": "BCdDV3JnYlnp"
      },
      "source": [
        ""
      ],
      "execution_count": null,
      "outputs": []
    },
    {
      "cell_type": "markdown",
      "metadata": {
        "id": "XV7r7CPPYmMD"
      },
      "source": [
        "# Recommendations"
      ]
    },
    {
      "cell_type": "code",
      "metadata": {
        "id": "2oFczHhnYn25"
      },
      "source": [
        ""
      ],
      "execution_count": null,
      "outputs": []
    },
    {
      "cell_type": "markdown",
      "metadata": {
        "id": "9beZkE9gYoPE"
      },
      "source": [
        "# Future Work"
      ]
    },
    {
      "cell_type": "code",
      "metadata": {
        "id": "hqy_vI6vYo-U"
      },
      "source": [
        ""
      ],
      "execution_count": null,
      "outputs": []
    },
    {
      "cell_type": "markdown",
      "metadata": {
        "id": "sd3s5R9vYpef"
      },
      "source": [
        "Thank you."
      ]
    },
    {
      "cell_type": "code",
      "metadata": {
        "id": "DtAUxydeYqFZ"
      },
      "source": [
        ""
      ],
      "execution_count": null,
      "outputs": []
    }
  ]
}